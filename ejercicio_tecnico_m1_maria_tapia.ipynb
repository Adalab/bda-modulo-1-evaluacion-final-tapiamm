{
 "cells": [
  {
   "cell_type": "markdown",
   "metadata": {},
   "source": [
    "* ESTRUCTURAS"
   ]
  },
  {
   "cell_type": "code",
   "execution_count": 104,
   "metadata": {},
   "outputs": [],
   "source": [
    "inventario=[] #Lista para almacenar productos con info en forma de diccionario: inventario=[{\"nombre\":\"value1\", \"precio\":\"value2\", \"cantidad\":\"value3\"}, ...]\n",
    "clientes={} #Diccionario para almacenar clientes con su info. La info de compra será una lista para almacenar el historial: clientes={cliente1: {\"email\":\"value1\", \"compras\": []}, {cliente2:...}\n",
    "ventas_totales= float() #Variable para registrar compras. Inicialmente: ventas_totales=float(0)"
   ]
  },
  {
   "cell_type": "markdown",
   "metadata": {},
   "source": [
    "* FUNCIONES"
   ]
  },
  {
   "cell_type": "markdown",
   "metadata": {},
   "source": [
    "1. Agregar producto"
   ]
  },
  {
   "cell_type": "code",
   "execution_count": 60,
   "metadata": {},
   "outputs": [],
   "source": [
    "def agregar_producto(nombre, precio, cantidad):\n",
    "    # Recorro los diccionarios de la lista\n",
    "    for producto in inventario:\n",
    "        # Confirmar si tengo el producto en los diccionarios\n",
    "        if nombre==producto[\"Nombre\"] and precio==producto[\"Precio\"]: \n",
    "        # Actualizo el stock\n",
    "            producto[\"Cantidad\"]= producto[\"Cantidad\"]+cantidad\n",
    "            # Devuelvo mensaje de éxito y el inventario con stock actualizado\n",
    "            print(f\"Producto '{nombre}' actualizado con éxito\")\n",
    "            return\n",
    "    # Creo diccionario donde añadir el nuevo producto\n",
    "    nuevo_producto= {\"Nombre\": nombre, \"Precio\": precio, \"Cantidad\": cantidad} \n",
    "    # Lo agrego al final de la lista\n",
    "    inventario.append(nuevo_producto) \n",
    "    # Devuelvo mensaje de éxito y el inventario actualizado\n",
    "    print(f\"Producto '{nombre}' agregado con éxito\")\n",
    "        "
   ]
  },
  {
   "cell_type": "markdown",
   "metadata": {},
   "source": [
    "2. Ver inventario"
   ]
  },
  {
   "cell_type": "code",
   "execution_count": 5,
   "metadata": {},
   "outputs": [],
   "source": [
    "def ver_inventario():\n",
    "    # Recorro los diccionarios de la lista\n",
    "    for producto in inventario: \n",
    "        # Cambio el formato de la lista creando una f-str para poder usar str y variables\n",
    "        print(f\"Nombre: {producto['Nombre']}, Precio: ${producto['Precio']}, Cantidad: {producto['Cantidad']}\")"
   ]
  },
  {
   "cell_type": "markdown",
   "metadata": {},
   "source": [
    "3. Buscar productos"
   ]
  },
  {
   "cell_type": "code",
   "execution_count": 6,
   "metadata": {},
   "outputs": [],
   "source": [
    "def buscar_producto(nombre):\n",
    "    # Creo una lista vacía dentro de la función para que se genere nuevo cada vez que la uso. Podrá aparecer más de un mismo producto si tienen el mismo nombre\n",
    "    resultado=[]\n",
    "    # Recorro los diccionarios dentro de la lista\n",
    "    for producto in inventario: \n",
    "        # Compruebo que el nombre dado coincide con alguno de los value de \"Nombre\"\n",
    "        if nombre== producto[\"Nombre\"]:             \n",
    "            resultado.append(producto) \n",
    "            # No utilizo break por si el producto no está en el primer diccionario\n",
    "    if resultado:\n",
    "        print(\"Producto encontrado\")\n",
    "        # Cambio de formato\n",
    "        print(f\"Nombre: {producto['Nombre']}, Precio: ${producto['Precio']}, Cantidad: {producto['Cantidad']}\")\n",
    "    else:\n",
    "        print(\"El producto no existe\")\n",
    "    # El if/else no está dentro de for porque los resultados se imprimen una vez recorrida toda la lista"
   ]
  },
  {
   "cell_type": "markdown",
   "metadata": {},
   "source": [
    "4. Actualizar stock"
   ]
  },
  {
   "cell_type": "code",
   "execution_count": 7,
   "metadata": {},
   "outputs": [],
   "source": [
    "def actualizar_stock(nombre, cantidad):\n",
    "    #Recorro los diccionarios dentro de la lista\n",
    "    for producto in inventario:\n",
    "        #Compruebo si hay algún value de la key \"Nombre\" que coincida con el parámetro nombre\n",
    "        if nombre==producto[\"Nombre\"]: \n",
    "            #Actualizo el stock\n",
    "            producto[\"Cantidad\"]= producto[\"Cantidad\"]+cantidad\n",
    "            #Devuelvo mensaje de éxito y el inventario con stock actualizado\n",
    "            print(f\"Producto '{nombre}' actualizado con éxito\") \n",
    "            #Salgo del bucle cuando me encuentre el producto\n",
    "            break       \n",
    "    #Creo la condición fuera del for para que el bucle recorra toda la lista\n",
    "    if nombre!=producto[\"Nombre\"]:\n",
    "        print(\"El producto no existe\")\n",
    "        "
   ]
  },
  {
   "cell_type": "markdown",
   "metadata": {},
   "source": [
    "5. Eliminar producto"
   ]
  },
  {
   "cell_type": "code",
   "execution_count": 8,
   "metadata": {},
   "outputs": [],
   "source": [
    "def eliminar_producto(nombre):\n",
    "    # Recorro los diccionarios dentro de la lista\n",
    "    for producto in inventario:\n",
    "        # Compruebo si hay algún value de la key \"Nombre\" que coincida con el parámetro nombre\n",
    "        if nombre==producto[\"Nombre\"]: \n",
    "            # Elimino el producto\n",
    "            inventario.remove(producto)\n",
    "            # Devuelvo mensaje de éxito y el inventario con stock actualizado\n",
    "            print(f\"Producto '{nombre}' eliminado con éxito\") \n",
    "            # Salgo del bucle cuando me encuentre el producto\n",
    "            break\n",
    "    # Creo la condición fuera del for para que el bucle recorra toda la lista\n",
    "    if nombre!=producto[\"Nombre\"]:\n",
    "        print(f\"Producto '{nombre}' no existe\")       "
   ]
  },
  {
   "cell_type": "markdown",
   "metadata": {},
   "source": [
    "6. Calcular valor inventario"
   ]
  },
  {
   "cell_type": "code",
   "execution_count": 9,
   "metadata": {},
   "outputs": [],
   "source": [
    "def calcular_valor_inventario():\n",
    "    # Creo una lista vacía para el valor total de cada producto del inventario. Recorro el inventario calculando ese valor para cada producto\n",
    "    total_producto=[producto[\"Cantidad\"]*producto[\"Precio\"] for producto in inventario]\n",
    "    # Sumo todos los valores de la nueva lista\n",
    "    total_inventario= sum(total_producto)\n",
    "    print(total_inventario)\n",
    "    "
   ]
  },
  {
   "cell_type": "markdown",
   "metadata": {},
   "source": [
    "7. Realizar compra"
   ]
  },
  {
   "cell_type": "code",
   "execution_count": 23,
   "metadata": {},
   "outputs": [],
   "source": [
    "def realizar_compra():\n",
    "  entrada= (input(\"¿Desea realizar una compra? (si/no): \")).lower()\n",
    "  # Creo una lista vacía para rellenar con lo que compro en forma de diccionario\n",
    "  carrito= []\n",
    "  # Creo un bucle while para la respuesta si del usuario\n",
    "  while entrada==\"si\":\n",
    "    ver_inventario()\n",
    "    compra=(input(\"¿Que desea comprar?\")).capitalize()\n",
    "    # Recorro el inventario para actualizar el stock del producto\n",
    "    for producto in inventario:\n",
    "      if compra==producto[\"Nombre\"]:\n",
    "        # Actualizo el value de la Cantidad para el producto que coincida con el Nombre\n",
    "        producto[\"Cantidad\"]= producto[\"Cantidad\"]-1\n",
    "        # Compruebo si el producto existe en el carrito para añadirlo\n",
    "        if producto['Nombre'] not in [c['Nombre'] for c in carrito] :\n",
    "          # Creo un diccionario para el producto comprado\n",
    "          nuevo_producto= {\"Nombre\": producto[\"Nombre\"], \"Precio\": producto[\"Precio\"], \"Cantidad\": 1}\n",
    "          carrito.append(nuevo_producto)\n",
    "        else:\n",
    "            # Cuando el producto existe recorro el diccionario para actualizar la cantidad comprada\n",
    "            for item in carrito:\n",
    "               if compra == item[\"Nombre\"] and producto[\"Precio\"] == item[\"Precio\"]:\n",
    "                item[\"Cantidad\"]= item[\"Cantidad\"] + 1\n",
    "    # Salgo de la actualización del inventario para preguntar si sigue la compra o rompo el bucle while si la respuesta es no\n",
    "    entrada= (input(\"¿Desea realizar una compra? (si/no): \")).lower()\n",
    "  \n",
    "  \n",
    "  # Creo una lista vacía para el valor total de cada ítem del carrito. Recorro el carrito calculando ese valor para cada ítem\n",
    "  total_item=[item[\"Cantidad\"]*item[\"Precio\"] for item in carrito]\n",
    "  # Sumo todos los valores de la nueva lista\n",
    "  total_carrito= sum(total_item)\n",
    "  print (f\"El total de tu compra es ${total_carrito}\")\n",
    "  # Cuando termina el bucle por el input del usuario me devuelve el carrito\n",
    "  return f\"Su compra: {carrito}\"\n"
   ]
  },
  {
   "cell_type": "markdown",
   "metadata": {},
   "source": [
    "8. Procesar pago"
   ]
  },
  {
   "cell_type": "code",
   "execution_count": 26,
   "metadata": {},
   "outputs": [],
   "source": [
    "def procesar_pago():\n",
    "  try:\n",
    "    compra=float(input(\"¿Cuánto es el total de tu compra?\"))\n",
    "    pago=float(input(\"¿Cuánto vas a pagar?\"))\n",
    "    cambio= pago-compra\n",
    "  except (ValueError, TypeError) as e:\n",
    "    print(f\"No se pudo realizar el pago. Valor no numérico: {e}\")\n",
    "  else:\n",
    "    if pago>= compra:\n",
    "      print(f\"Compra realizada con éxito. Tu cambio es {cambio}\")\n",
    "    else:\n",
    "      print(\"No se pudo realizar la compra. Saldo insuficiente.\")"
   ]
  },
  {
   "cell_type": "markdown",
   "metadata": {},
   "source": [
    "* LLAMADA A FUNCIONES"
   ]
  },
  {
   "cell_type": "code",
   "execution_count": 70,
   "metadata": {},
   "outputs": [],
   "source": [
    "inventario= [{\"Nombre\":\"Camisa\", \"Precio\": 20, \"Cantidad\": 40},\n",
    "         {\"Nombre\":\"Pantalón\", \"Precio\": 40, \"Cantidad\": 55},\n",
    "         {\"Nombre\":\"Camiseta\", \"Precio\": 15, \"Cantidad\": 38},\n",
    "         {\"Nombre\":\"Botas\", \"Precio\": 56, \"Cantidad\": 50}]"
   ]
  },
  {
   "cell_type": "markdown",
   "metadata": {},
   "source": [
    "1. Agregar producto:"
   ]
  },
  {
   "cell_type": "code",
   "execution_count": 71,
   "metadata": {},
   "outputs": [
    {
     "name": "stdout",
     "output_type": "stream",
     "text": [
      "Producto 'Camisa' actualizado con éxito\n"
     ]
    },
    {
     "data": {
      "text/plain": [
       "[{'Nombre': 'Camisa', 'Precio': 20, 'Cantidad': 80},\n",
       " {'Nombre': 'Pantalón', 'Precio': 40, 'Cantidad': 55},\n",
       " {'Nombre': 'Camiseta', 'Precio': 15, 'Cantidad': 38},\n",
       " {'Nombre': 'Botas', 'Precio': 56, 'Cantidad': 50}]"
      ]
     },
     "execution_count": 71,
     "metadata": {},
     "output_type": "execute_result"
    }
   ],
   "source": [
    "agregar_producto(\"Camisa\", 20, 40)\n",
    "inventario"
   ]
  },
  {
   "cell_type": "code",
   "execution_count": 72,
   "metadata": {},
   "outputs": [
    {
     "name": "stdout",
     "output_type": "stream",
     "text": [
      "Producto 'Zapatillas' agregado con éxito\n"
     ]
    },
    {
     "data": {
      "text/plain": [
       "[{'Nombre': 'Camisa', 'Precio': 20, 'Cantidad': 80},\n",
       " {'Nombre': 'Pantalón', 'Precio': 40, 'Cantidad': 55},\n",
       " {'Nombre': 'Camiseta', 'Precio': 15, 'Cantidad': 38},\n",
       " {'Nombre': 'Botas', 'Precio': 56, 'Cantidad': 50},\n",
       " {'Nombre': 'Zapatillas', 'Precio': 36, 'Cantidad': 30}]"
      ]
     },
     "execution_count": 72,
     "metadata": {},
     "output_type": "execute_result"
    }
   ],
   "source": [
    "agregar_producto(\"Zapatillas\", 36, 30)\n",
    "inventario"
   ]
  },
  {
   "cell_type": "markdown",
   "metadata": {},
   "source": [
    "2. Ver inventario"
   ]
  },
  {
   "cell_type": "code",
   "execution_count": 14,
   "metadata": {},
   "outputs": [
    {
     "name": "stdout",
     "output_type": "stream",
     "text": [
      "Nombre: Camisa, Precio: $20, Cantidad: 40\n",
      "Nombre: Pantalón, Precio: $40, Cantidad: 55\n",
      "Nombre: Camiseta, Precio: $15, Cantidad: 38\n",
      "Nombre: Botas, Precio: $56, Cantidad: 50\n"
     ]
    }
   ],
   "source": [
    "ver_inventario()"
   ]
  },
  {
   "cell_type": "markdown",
   "metadata": {},
   "source": [
    "3. Buscar producto"
   ]
  },
  {
   "cell_type": "code",
   "execution_count": 15,
   "metadata": {},
   "outputs": [
    {
     "name": "stdout",
     "output_type": "stream",
     "text": [
      "El producto no existe\n"
     ]
    }
   ],
   "source": [
    "buscar_producto(\"Blusa\")"
   ]
  },
  {
   "cell_type": "code",
   "execution_count": 16,
   "metadata": {},
   "outputs": [
    {
     "name": "stdout",
     "output_type": "stream",
     "text": [
      "Producto encontrado\n",
      "Nombre: Zapatillas, Precio: $36, Cantidad: 30\n"
     ]
    }
   ],
   "source": [
    "buscar_producto(\"Botas\")"
   ]
  },
  {
   "cell_type": "markdown",
   "metadata": {},
   "source": [
    "4. Actualizar Stock"
   ]
  },
  {
   "cell_type": "code",
   "execution_count": 18,
   "metadata": {},
   "outputs": [
    {
     "name": "stdout",
     "output_type": "stream",
     "text": [
      "Producto 'Camiseta' actualizado con éxito\n"
     ]
    },
    {
     "data": {
      "text/plain": [
       "[{'Nombre': 'Camisa', 'Precio': 20, 'Cantidad': 80},\n",
       " {'Nombre': 'Pantalón', 'Precio': 40, 'Cantidad': 55},\n",
       " {'Nombre': 'Camiseta', 'Precio': 15, 'Cantidad': 58},\n",
       " {'Nombre': 'Botas', 'Precio': 56, 'Cantidad': 50},\n",
       " {'Nombre': 'Zapatillas', 'Precio': 36, 'Cantidad': 30}]"
      ]
     },
     "execution_count": 18,
     "metadata": {},
     "output_type": "execute_result"
    }
   ],
   "source": [
    "actualizar_stock(\"Camiseta\", 20)\n",
    "inventario"
   ]
  },
  {
   "cell_type": "code",
   "execution_count": 19,
   "metadata": {},
   "outputs": [
    {
     "name": "stdout",
     "output_type": "stream",
     "text": [
      "El producto no existe\n"
     ]
    }
   ],
   "source": [
    "actualizar_stock(\"Blusa\", 30)"
   ]
  },
  {
   "cell_type": "markdown",
   "metadata": {},
   "source": [
    "5. Eliminar producto"
   ]
  },
  {
   "cell_type": "code",
   "execution_count": 23,
   "metadata": {},
   "outputs": [
    {
     "name": "stdout",
     "output_type": "stream",
     "text": [
      "Producto 'Botas' eliminado con éxito\n"
     ]
    },
    {
     "data": {
      "text/plain": [
       "[{'Nombre': 'Camisa', 'Precio': 20, 'Cantidad': 80},\n",
       " {'Nombre': 'Pantalón', 'Precio': 40, 'Cantidad': 55},\n",
       " {'Nombre': 'Camiseta', 'Precio': 15, 'Cantidad': 58},\n",
       " {'Nombre': 'Zapatillas', 'Precio': 36, 'Cantidad': 30}]"
      ]
     },
     "execution_count": 23,
     "metadata": {},
     "output_type": "execute_result"
    }
   ],
   "source": [
    "eliminar_producto(\"Botas\")\n",
    "inventario"
   ]
  },
  {
   "cell_type": "markdown",
   "metadata": {},
   "source": [
    "6. Calcular valor inventario"
   ]
  },
  {
   "cell_type": "code",
   "execution_count": 25,
   "metadata": {},
   "outputs": [
    {
     "name": "stdout",
     "output_type": "stream",
     "text": [
      "5750\n"
     ]
    }
   ],
   "source": [
    "calcular_valor_inventario()"
   ]
  },
  {
   "cell_type": "markdown",
   "metadata": {},
   "source": [
    "7. Realizar compra"
   ]
  },
  {
   "cell_type": "code",
   "execution_count": 24,
   "metadata": {},
   "outputs": [
    {
     "name": "stdout",
     "output_type": "stream",
     "text": [
      "Nombre: Camisa, Precio: $20, Cantidad: 36\n",
      "Nombre: Pantalón, Precio: $40, Cantidad: 54\n",
      "Nombre: Camiseta, Precio: $15, Cantidad: 36\n",
      "Nombre: Botas, Precio: $56, Cantidad: 45\n",
      "Nombre: Camisa, Precio: $20, Cantidad: 36\n",
      "Nombre: Pantalón, Precio: $40, Cantidad: 53\n",
      "Nombre: Camiseta, Precio: $15, Cantidad: 36\n",
      "Nombre: Botas, Precio: $56, Cantidad: 45\n",
      "Nombre: Camisa, Precio: $20, Cantidad: 35\n",
      "Nombre: Pantalón, Precio: $40, Cantidad: 53\n",
      "Nombre: Camiseta, Precio: $15, Cantidad: 36\n",
      "Nombre: Botas, Precio: $56, Cantidad: 45\n",
      "El total de tu compra es $80\n"
     ]
    },
    {
     "data": {
      "text/plain": [
       "\"Su compra: [{'Nombre': 'Pantalón', 'Precio': 40, 'Cantidad': 1}, {'Nombre': 'Camisa', 'Precio': 20, 'Cantidad': 2}]\""
      ]
     },
     "execution_count": 24,
     "metadata": {},
     "output_type": "execute_result"
    }
   ],
   "source": [
    "realizar_compra()"
   ]
  },
  {
   "cell_type": "markdown",
   "metadata": {},
   "source": [
    "8. Procesar pago"
   ]
  },
  {
   "cell_type": "code",
   "execution_count": 27,
   "metadata": {},
   "outputs": [
    {
     "name": "stdout",
     "output_type": "stream",
     "text": [
      "Compra realizada con éxito. Tu cambio es 100.0\n"
     ]
    }
   ],
   "source": [
    "procesar_pago()"
   ]
  },
  {
   "cell_type": "code",
   "execution_count": 28,
   "metadata": {},
   "outputs": [
    {
     "name": "stdout",
     "output_type": "stream",
     "text": [
      "No se pudo realizar la compra. Saldo insuficiente.\n"
     ]
    }
   ],
   "source": [
    "procesar_pago()"
   ]
  },
  {
   "cell_type": "code",
   "execution_count": 29,
   "metadata": {},
   "outputs": [
    {
     "name": "stdout",
     "output_type": "stream",
     "text": [
      "No se pudo realizar el pago. Valor no numérico: could not convert string to float: 'l'\n"
     ]
    }
   ],
   "source": [
    "procesar_pago()"
   ]
  }
 ],
 "metadata": {
  "kernelspec": {
   "display_name": "Python 3",
   "language": "python",
   "name": "python3"
  },
  "language_info": {
   "codemirror_mode": {
    "name": "ipython",
    "version": 3
   },
   "file_extension": ".py",
   "mimetype": "text/x-python",
   "name": "python",
   "nbconvert_exporter": "python",
   "pygments_lexer": "ipython3",
   "version": "3.13.2"
  }
 },
 "nbformat": 4,
 "nbformat_minor": 2
}
